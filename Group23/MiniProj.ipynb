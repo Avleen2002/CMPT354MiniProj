{
 "cells": [
  {
   "cell_type": "code",
   "execution_count": 1,
   "id": "7cb169cd",
   "metadata": {},
   "outputs": [],
   "source": [
    "%load_ext sql"
   ]
  },
  {
   "cell_type": "code",
   "execution_count": 2,
   "id": "f0d8dc1a",
   "metadata": {},
   "outputs": [],
   "source": [
    "\"create an empty database called library\"\n",
    "%sql sqlite:///library.db"
   ]
  },
  {
   "cell_type": "code",
   "execution_count": 3,
   "id": "9e7a6083",
   "metadata": {},
   "outputs": [
    {
     "data": {
      "text/plain": [
       "'STEP 5: SQL SCHEMA'"
      ]
     },
     "execution_count": 3,
     "metadata": {},
     "output_type": "execute_result"
    }
   ],
   "source": [
    "\"STEP 5: SQL SCHEMA\""
   ]
  },
  {
   "cell_type": "code",
   "execution_count": 4,
   "id": "7f243fbe",
   "metadata": {},
   "outputs": [
    {
     "name": "stdout",
     "output_type": "stream",
     "text": [
      " * sqlite:///library.db\n",
      "Done.\n"
     ]
    },
    {
     "data": {
      "text/plain": [
       "[]"
      ]
     },
     "execution_count": 4,
     "metadata": {},
     "output_type": "execute_result"
    }
   ],
   "source": [
    "%%sql\n",
    "CREATE TABLE Item(\n",
    "    itemID INTEGER,\n",
    "    title CHAR(20) NOT NULL,\n",
    "    author CHAR(20)NOT NULL,\n",
    "    genre CHAR(10) NOT NULL,\n",
    "    format CHAR(10) NOT NULL,\n",
    "    availabilityStatus CHAR(1) NOT NULL,\n",
    "    PRIMARY KEY(itemID)\n",
    ");"
   ]
  },
  {
   "cell_type": "code",
   "execution_count": 5,
   "id": "162254e0",
   "metadata": {},
   "outputs": [
    {
     "name": "stdout",
     "output_type": "stream",
     "text": [
      " * sqlite:///library.db\n",
      "Done.\n"
     ]
    },
    {
     "data": {
      "text/plain": [
       "[]"
      ]
     },
     "execution_count": 5,
     "metadata": {},
     "output_type": "execute_result"
    }
   ],
   "source": [
    "%%sql\n",
    "CREATE TABLE User (\n",
    "    userID INTEGER,\n",
    "    firstName CHAR(15) NOT NULL,\n",
    "    lastName CHAR(15) NOT NULL,\n",
    "    contactDetails TEXT,\n",
    "    PRIMARY KEY(userID)\n",
    ");\n"
   ]
  },
  {
   "cell_type": "code",
   "execution_count": 6,
   "id": "a07e9cd0",
   "metadata": {},
   "outputs": [
    {
     "name": "stdout",
     "output_type": "stream",
     "text": [
      " * sqlite:///library.db\n",
      "Done.\n"
     ]
    },
    {
     "data": {
      "text/plain": [
       "[]"
      ]
     },
     "execution_count": 6,
     "metadata": {},
     "output_type": "execute_result"
    }
   ],
   "source": [
    "%%sql\n",
    "CREATE TABLE Borrowing (\n",
    "    borrowingID INTEGER,\n",
    "    userID INTEGER NOT NULL,\n",
    "    itemID INTEGER NOT NULL,\n",
    "    borrowingDate DATE NOT NULL,\n",
    "    dueDate DATE NOT NULL,\n",
    "    returnDate DATE,\n",
    "    fines REAL,\n",
    "    FOREIGN KEY (userID) REFERENCES User (userID),\n",
    "    FOREIGN KEY (itemID) REFERENCES Item (itemID),\n",
    "    PRIMARY KEY(borrowingID)\n",
    ");"
   ]
  },
  {
   "cell_type": "code",
   "execution_count": 7,
   "id": "223eccd2",
   "metadata": {},
   "outputs": [
    {
     "name": "stdout",
     "output_type": "stream",
     "text": [
      " * sqlite:///library.db\n",
      "Done.\n"
     ]
    },
    {
     "data": {
      "text/plain": [
       "[]"
      ]
     },
     "execution_count": 7,
     "metadata": {},
     "output_type": "execute_result"
    }
   ],
   "source": [
    "%%sql\n",
    "CREATE TABLE Event (\n",
    "    eventID INTEGER,\n",
    "    eventName CHAR(20) NOT NULL,\n",
    "    description TEXT,\n",
    "    date DATE NOT NULL,\n",
    "    time TIME NOT NULL,\n",
    "    targetAudience TEXT,\n",
    "    PRIMARY KEY(eventID)\n",
    ");"
   ]
  },
  {
   "cell_type": "code",
   "execution_count": 8,
   "id": "ec386e2d",
   "metadata": {},
   "outputs": [
    {
     "name": "stdout",
     "output_type": "stream",
     "text": [
      " * sqlite:///library.db\n",
      "Done.\n"
     ]
    },
    {
     "data": {
      "text/plain": [
       "[]"
      ]
     },
     "execution_count": 8,
     "metadata": {},
     "output_type": "execute_result"
    }
   ],
   "source": [
    "%%sql\n",
    "CREATE TABLE Personnel (\n",
    "    personnelID INTEGER PRIMARY KEY,\n",
    "    firstName CHAR(15) NOT NULL,\n",
    "    lastName CHAR(15) NOT NULL,\n",
    "    jobTitle TEXT NOT NULL,\n",
    "    contactDetails TEXT\n",
    ");"
   ]
  },
  {
   "cell_type": "code",
   "execution_count": 9,
   "id": "17df3e91",
   "metadata": {},
   "outputs": [
    {
     "name": "stdout",
     "output_type": "stream",
     "text": [
      " * sqlite:///library.db\n",
      "Done.\n"
     ]
    },
    {
     "data": {
      "text/plain": [
       "[]"
      ]
     },
     "execution_count": 9,
     "metadata": {},
     "output_type": "execute_result"
    }
   ],
   "source": [
    "%%sql\n",
    "CREATE TABLE Organised (\n",
    "    personnelID INTEGER NOT NULL,\n",
    "    eventID INTEGER NOT NULL,\n",
    "    FOREIGN KEY (personnelID) REFERENCES Personnel (personnelID),\n",
    "    FOREIGN KEY (eventID) REFERENCES Event (eventID),\n",
    "    PRIMARY KEY (personnelID, eventID)\n",
    ");"
   ]
  },
  {
   "cell_type": "code",
   "execution_count": 10,
   "id": "f927ecae",
   "metadata": {},
   "outputs": [
    {
     "name": "stdout",
     "output_type": "stream",
     "text": [
      " * sqlite:///library.db\n",
      "Done.\n"
     ]
    },
    {
     "data": {
      "text/plain": [
       "[]"
      ]
     },
     "execution_count": 10,
     "metadata": {},
     "output_type": "execute_result"
    }
   ],
   "source": [
    "%%sql\n",
    "CREATE TABLE Invited (\n",
    "    userID INTEGER NOT NULL,\n",
    "    eventID INTEGER NOT NULL,\n",
    "    FOREIGN KEY (userID) REFERENCES User (userID),\n",
    "    FOREIGN KEY (eventID) REFERENCES Event (eventID),\n",
    "    PRIMARY KEY (userID, eventID)\n",
    ");"
   ]
  },
  {
   "cell_type": "code",
   "execution_count": 11,
   "id": "bf5c3c03",
   "metadata": {},
   "outputs": [
    {
     "name": "stdout",
     "output_type": "stream",
     "text": [
      " * sqlite:///library.db\n",
      "Done.\n"
     ]
    },
    {
     "data": {
      "text/plain": [
       "[]"
      ]
     },
     "execution_count": 11,
     "metadata": {},
     "output_type": "execute_result"
    }
   ],
   "source": [
    "%%sql\n",
    "CREATE TABLE ProposedItem (\n",
    "    proposedItemID INTEGER,\n",
    "    itemName CHAR(20)NOT NULL,\n",
    "    description TEXT,\n",
    "    format TEXT NOT NULL,\n",
    "    PRIMARY KEY(proposedItemID)\n",
    ");"
   ]
  },
  {
   "cell_type": "code",
   "execution_count": 12,
   "id": "64635f07",
   "metadata": {
    "scrolled": true
   },
   "outputs": [
    {
     "data": {
      "text/plain": [
       "'STEP 6: POPULATING THE TABLES'"
      ]
     },
     "execution_count": 12,
     "metadata": {},
     "output_type": "execute_result"
    }
   ],
   "source": [
    "\"STEP 6: POPULATING THE TABLES\""
   ]
  },
  {
   "cell_type": "code",
   "execution_count": 13,
   "id": "1162b356",
   "metadata": {},
   "outputs": [
    {
     "name": "stdout",
     "output_type": "stream",
     "text": [
      " * sqlite:///library.db\n",
      "10 rows affected.\n"
     ]
    },
    {
     "data": {
      "text/plain": [
       "[]"
      ]
     },
     "execution_count": 13,
     "metadata": {},
     "output_type": "execute_result"
    }
   ],
   "source": [
    "%%sql\n",
    "INSERT INTO Item (title, author, genre, format, availabilityStatus)\n",
    "VALUES\n",
    "    ('The Great Gatsby', 'F. Scott Fitzgerald', 'Classic', 'Print Book', 'Y'),\n",
    "    ('The Da Vinci Code', 'Dan Brown', 'Mystery', 'Print Book', 'Y'),\n",
    "    ('Harry Potter and the Sorcerer''s Stone', 'J.K. Rowling', 'Fantasy', 'Print Book', 'Y'),\n",
    "    ('To Kill a Mockingbird', 'Harper Lee', 'Classic', 'Print Book', 'Y'),\n",
    "    ('1984', 'George Orwell', 'Dystopian', 'Print Book', 'Y'),\n",
    "    ('The Catcher in the Rye', 'J.D. Salinger', 'Coming-of-age', 'Print Book','Y'),\n",
    "    ('The Lord of the Rings', 'J.R.R. Tolkien', 'Fantasy', 'Print Book','Y'),\n",
    "    ('Inception (Movie)', 'Christopher Nolan', 'Science Fiction', 'DVD', 'Y'),\n",
    "    ('Thriller (Album)', 'Michael Jackson', 'Pop', 'CD', 'Y'),\n",
    "    ('National Geographic', 'Various Authors', 'Magazine', 'Print Magazine', 'Y');"
   ]
  },
  {
   "cell_type": "code",
   "execution_count": 14,
   "id": "20a6fa66",
   "metadata": {},
   "outputs": [
    {
     "name": "stdout",
     "output_type": "stream",
     "text": [
      " * sqlite:///library.db\n",
      "10 rows affected.\n"
     ]
    },
    {
     "data": {
      "text/plain": [
       "[]"
      ]
     },
     "execution_count": 14,
     "metadata": {},
     "output_type": "execute_result"
    }
   ],
   "source": [
    "%%sql\n",
    "INSERT INTO User (firstName, lastName, contactDetails)\n",
    "VALUES\n",
    "    ('John', 'Doe', 'john.doe@example.com'),\n",
    "    ('Jane', 'Smith', 'jane.smith@example.com'),\n",
    "    ('Michael', 'Johnson', NULL),\n",
    "    ('Emily', 'Williams', 'emily.williams@example.com'),\n",
    "    ('David', 'Brown', 'david.brown@example.com'),\n",
    "    ('Sarah', 'Davis', NULL),\n",
    "    ('Robert', 'Taylor', 'robert.taylor@example.com'),\n",
    "    ('Jennifer', 'Anderson', 'jennifer.anderson@example.com'),\n",
    "    ('Daniel', 'Thomas', NULL),\n",
    "    ('Lisa', 'Martinez', 'lisa.martinez@example.com');\n"
   ]
  },
  {
   "cell_type": "code",
   "execution_count": 15,
   "id": "c0a652cf",
   "metadata": {},
   "outputs": [
    {
     "name": "stdout",
     "output_type": "stream",
     "text": [
      " * sqlite:///library.db\n",
      "10 rows affected.\n"
     ]
    },
    {
     "data": {
      "text/plain": [
       "[]"
      ]
     },
     "execution_count": 15,
     "metadata": {},
     "output_type": "execute_result"
    }
   ],
   "source": [
    "%%sql\n",
    "INSERT INTO Borrowing (userID, itemID, borrowingDate, dueDate, returnDate, fines)\n",
    "VALUES\n",
    "    (1, 2, '2023-07-15', '2023-08-15', NULL, NULL),\n",
    "    (3, 5, '2023-07-20', '2023-08-20', NULL, NULL),\n",
    "    (2, 7, '2023-07-25', '2023-08-25', NULL, NULL),\n",
    "    (4, 1, '2023-07-12', '2023-08-12', '2023-08-10', 2.50),\n",
    "    (5, 3, '2023-07-18', '2023-08-18', NULL, NULL),\n",
    "    (7, 6, '2023-07-22', '2023-08-22', NULL, NULL),\n",
    "    (6, 9, '2023-07-27', '2023-08-27', NULL, NULL),\n",
    "    (10, 8, '2023-07-10', '2023-08-10', '2023-08-07', 1.75),\n",
    "    (9, 4, '2023-07-13', '2023-08-13', NULL, NULL),\n",
    "    (8, 10, '2023-07-28', '2023-08-28', NULL, NULL);\n"
   ]
  },
  {
   "cell_type": "code",
   "execution_count": 16,
   "id": "2a1c18ee",
   "metadata": {},
   "outputs": [
    {
     "name": "stdout",
     "output_type": "stream",
     "text": [
      " * sqlite:///library.db\n",
      "10 rows affected.\n"
     ]
    },
    {
     "data": {
      "text/plain": [
       "[]"
      ]
     },
     "execution_count": 16,
     "metadata": {},
     "output_type": "execute_result"
    }
   ],
   "source": [
    "%%sql\n",
    "INSERT INTO Event (eventName, description, date, time, targetAudience)\n",
    "VALUES\n",
    "    ('Book Club Meeting', 'Discussing \"The Great Gatsby\"', '2023-08-01', '18:00', 'Book Club Members'),\n",
    "    ('Movie Night', 'Screening \"Inception\"', '2023-08-05', '19:30', 'All Library Visitors'),\n",
    "    ('Author Talk', 'Meet the Author of \"The Da Vinci Code\"', '2023-08-08', '17:00', 'General Public'),\n",
    "    ('Children''s Storytelling', 'Interactive storytelling session for kids', '2023-08-12', '10:30', 'Children (Ages 4-8)'),\n",
    "    ('Music Concert', 'Live performance by local bands', '2023-08-15', '20:00', 'Music Enthusiasts'),\n",
    "    ('Movie Night', 'Screening \"The Lord of the Rings: The Fellowship of the Ring\"', '2023-08-20', '19:00', 'All Library Visitors'),\n",
    "    ('Science Fiction Book Talk', 'Discussing \"1984\" and other dystopian novels', '2023-08-22', '18:30', 'Science Fiction Fans'),\n",
    "    ('Teen Art Show', 'Art exhibition showcasing works by local teenagers', '2023-08-25', '15:00', 'Teenagers (Ages 13-18)'),\n",
    "    ('Classics Discussion', 'Conversation on classic literature', '2023-08-29', '17:30', 'Literature Enthusiasts'),\n",
    "    ('Cooking Workshop', 'Hands-on cooking class for beginners', '2023-08-30', '16:00', 'Food Enthusiasts');\n"
   ]
  },
  {
   "cell_type": "code",
   "execution_count": 17,
   "id": "fa61839b",
   "metadata": {},
   "outputs": [
    {
     "name": "stdout",
     "output_type": "stream",
     "text": [
      " * sqlite:///library.db\n",
      "10 rows affected.\n"
     ]
    },
    {
     "data": {
      "text/plain": [
       "[]"
      ]
     },
     "execution_count": 17,
     "metadata": {},
     "output_type": "execute_result"
    }
   ],
   "source": [
    "%%sql\n",
    "INSERT INTO Event (eventName, description, date, time, targetAudience)\n",
    "VALUES\n",
    "    ('Book Club Meeting', 'Discussing \"The Great Gatsby\"', '2023-08-01', '18:00', 'Book Club Members'),\n",
    "    ('Movie Night', 'Screening \"Inception\"', '2023-08-05', '19:30', 'All Library Visitors'),\n",
    "    ('Author Talk', 'Meet the Author of \"The Da Vinci Code\"', '2023-08-08', '17:00', 'General Public'),\n",
    "    ('Children''s Storytelling', 'Interactive storytelling session for kids', '2023-08-12', '10:30', 'Children (Ages 4-8)'),\n",
    "    ('Music Concert', 'Live performance by local bands', '2023-08-15', '20:00', 'Music Enthusiasts'),\n",
    "    ('Movie Night', 'Screening \"The Lord of the Rings: The Fellowship of the Ring\"', '2023-08-20', '19:00', 'All Library Visitors'),\n",
    "    ('Science Fiction Book Talk', 'Discussing \"1984\" and other dystopian novels', '2023-08-22', '18:30', 'Science Fiction Fans'),\n",
    "    ('Teen Art Show', 'Art exhibition showcasing works by local teenagers', '2023-08-25', '15:00', 'Teenagers (Ages 13-18)'),\n",
    "    ('Classics Discussion', 'Conversation on classic literature', '2023-08-29', '17:30', 'Literature Enthusiasts'),\n",
    "    ('Cooking Workshop', 'Hands-on cooking class for beginners', '2023-08-30', '16:00', 'Food Enthusiasts');\n"
   ]
  },
  {
   "cell_type": "code",
   "execution_count": 18,
   "id": "339d6bb3",
   "metadata": {},
   "outputs": [
    {
     "name": "stdout",
     "output_type": "stream",
     "text": [
      " * sqlite:///library.db\n",
      "10 rows affected.\n"
     ]
    },
    {
     "data": {
      "text/plain": [
       "[]"
      ]
     },
     "execution_count": 18,
     "metadata": {},
     "output_type": "execute_result"
    }
   ],
   "source": [
    "%%sql \n",
    "INSERT INTO Organised (personnelID, eventID)\n",
    "VALUES\n",
    "    (1, 1),\n",
    "    (3, 2),\n",
    "    (1, 3),\n",
    "    (5, 4),\n",
    "    (2, 5),\n",
    "    (3, 6),\n",
    "    (2, 7),\n",
    "    (3, 8),\n",
    "    (1, 9),\n",
    "    (3, 10);"
   ]
  },
  {
   "cell_type": "code",
   "execution_count": 19,
   "id": "9fdb012f",
   "metadata": {},
   "outputs": [
    {
     "name": "stdout",
     "output_type": "stream",
     "text": [
      " * sqlite:///library.db\n",
      "10 rows affected.\n"
     ]
    },
    {
     "data": {
      "text/plain": [
       "[]"
      ]
     },
     "execution_count": 19,
     "metadata": {},
     "output_type": "execute_result"
    }
   ],
   "source": [
    "%%sql\n",
    "INSERT INTO Invited (userID, eventID)\n",
    "VALUES\n",
    "    (1, 1),\n",
    "    (2, 1),\n",
    "    (3, 2),\n",
    "    (5, 2),\n",
    "    (6, 2),\n",
    "    (4, 3),\n",
    "    (7, 3),\n",
    "    (8, 3),\n",
    "    (9, 4),\n",
    "    (10, 4);\n"
   ]
  },
  {
   "cell_type": "code",
   "execution_count": 20,
   "id": "d87eac30",
   "metadata": {},
   "outputs": [
    {
     "name": "stdout",
     "output_type": "stream",
     "text": [
      " * sqlite:///library.db\n",
      "10 rows affected.\n"
     ]
    },
    {
     "data": {
      "text/plain": [
       "[]"
      ]
     },
     "execution_count": 20,
     "metadata": {},
     "output_type": "execute_result"
    }
   ],
   "source": [
    "%%sql \n",
    "INSERT INTO ProposedItem (itemName, description, format) \n",
    "VALUES\n",
    "    ('Proposal Book 1', 'This is a proposed item for the library collection.', 'Print Book'),\n",
    "    ('Future Novel 2', 'Exciting new book to consider for the library.', 'Online Book'),\n",
    "    ('Upcoming CD 3', 'Recommended CD for the library''s music collection.', 'CD'),\n",
    "    ('Online Course 4', 'Online course on a popular topic.', 'Online Course'),\n",
    "    ('Art Magazine 5', 'Magazine featuring art and creativity.', 'Print Magazine'),\n",
    "    ('Audio Book 6', 'Audio book for literature enthusiasts.', 'Online Audio'),\n",
    "    ('Documentary DVD 7', 'Educational DVD on a fascinating topic.', 'DVD'),\n",
    "    ('Science Journal 8', 'Scientific journal with the latest research.', 'Online Journal'),\n",
    "    ('Children''s Storybook 9', 'Engaging children''s storybook for young readers.', 'Print Book'),\n",
    "    ('Photography Exhibition 10', 'Photography exhibition for art lovers.', 'Art Exhibition');"
   ]
  }
 ],
 "metadata": {
  "kernelspec": {
   "display_name": "Python 3 (ipykernel)",
   "language": "python",
   "name": "python3"
  },
  "language_info": {
   "codemirror_mode": {
    "name": "ipython",
    "version": 3
   },
   "file_extension": ".py",
   "mimetype": "text/x-python",
   "name": "python",
   "nbconvert_exporter": "python",
   "pygments_lexer": "ipython3",
   "version": "3.9.6"
  },
  "vscode": {
   "interpreter": {
    "hash": "31f2aee4e71d21fbe5cf8b01ff0e069b9275f58929596ceb00d14d90e3e16cd6"
   }
  }
 },
 "nbformat": 4,
 "nbformat_minor": 5
}
