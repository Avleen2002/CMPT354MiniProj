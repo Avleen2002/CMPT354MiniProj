{
 "cells": [
  {
   "cell_type": "code",
   "execution_count": 1,
   "id": "7cb169cd",
   "metadata": {},
   "outputs": [],
   "source": [
    "#Hi!!!"
   ]
  },
  {
   "cell_type": "code",
   "execution_count": null,
   "id": "f0d8dc1a",
   "metadata": {},
   "outputs": [],
   "source": []
  }
 ],
 "metadata": {
  "kernelspec": {
   "display_name": "VirtualEnv",
   "language": "python",
   "name": "virtualenv"
  },
  "language_info": {
   "codemirror_mode": {
    "name": "ipython",
    "version": 3
   },
   "file_extension": ".py",
   "mimetype": "text/x-python",
   "name": "python",
   "nbconvert_exporter": "python",
   "pygments_lexer": "ipython3",
   "version": "3.10.11"
  }
 },
 "nbformat": 4,
 "nbformat_minor": 5
}
